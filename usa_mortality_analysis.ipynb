{
 "cells": [
  {
   "cell_type": "code",
   "execution_count": 1,
   "metadata": {},
   "outputs": [
    {
     "name": "stdout",
     "output_type": "stream",
     "text": [
      "Welcome to\n",
      "      ____              __\n",
      "     / __/__  ___ _____/ /__\n",
      "    _\\ \\/ _ \\/ _ `/ __/  '_/\n",
      "   /__ / .__/\\_,_/_/ /_/\\_\\   version 3.0.0\n",
      "      /_/\n",
      "\n",
      "Using Python version 3.7.3 (default, Mar  6 2020 22:34:30)\n",
      "SparkSession available as 'spark'.\n"
     ]
    }
   ],
   "source": [
    "#Import Libraries\n",
    "from IPython.core.display import display\n",
    "from pyspark.shell import spark\n",
    "from cassandra.cluster import Cluster\n",
    "from pyspark import SparkConf\n",
    "from pyspark.sql import SparkSession\n",
    "from functools import reduce  # For Python 3.x\n",
    "from pyspark.sql import DataFrame\n",
    "from pyspark.ml import Pipeline\n",
    "from pyspark.ml.feature import StringIndexer, VectorAssembler, OneHotEncoder\n",
    "from pyspark.ml.classification import LogisticRegression\n",
    "from pyspark.ml.evaluation import BinaryClassificationEvaluator\n",
    "from pyspark.ml.evaluation import MulticlassClassificationEvaluator"
   ]
  },
  {
   "cell_type": "code",
   "execution_count": 2,
   "outputs": [],
   "source": [
    "# Spark configuration\n",
    "sparkConf=SparkConf().setMaster(\"local[3]\")\\\n",
    "                     .setAppName(\"project\")\\\n",
    "                     .setAll([('spark.executor.memory','2g')])\n",
    "\n",
    "spark=SparkSession.builder.config(conf=sparkConf).getOrCreate()"
   ],
   "metadata": {
    "collapsed": false,
    "pycharm": {
     "name": "#%%\n"
    }
   }
  },
  {
   "cell_type": "code",
   "execution_count": 3,
   "outputs": [],
   "source": [
    "# Connection with Cassandra db\n",
    "cluster = Cluster(['127.0.0.1'], port= 9042)\n",
    "session = cluster.connect('mykeyspace')"
   ],
   "metadata": {
    "collapsed": false,
    "pycharm": {
     "name": "#%%\n"
    }
   }
  },
  {
   "cell_type": "code",
   "execution_count": 3,
   "metadata": {},
   "outputs": [],
   "source": [
    "# Data pre-processing\n",
    "\n",
    "# Reading all the 10 years CSV\n",
    "year2005 = (spark.read.csv(path='/Users/alessio/Documents/Projects/usa-mortality-analysis/sources/dataset/2005_data.csv',\n",
    "                           header=True,\n",
    "                           inferSchema=True,\n",
    "                           ignoreLeadingWhiteSpace=True,\n",
    "                           ignoreTrailingWhiteSpace=True).cache())\n",
    "year2006 = (spark.read.csv(path='/Users/alessio/Documents/Projects/usa-mortality-analysis/sources/dataset/2006_data.csv',\n",
    "                           header=True,\n",
    "                           inferSchema=True,\n",
    "                           ignoreLeadingWhiteSpace=True,\n",
    "                           ignoreTrailingWhiteSpace=True).cache())\n",
    "year2007 = (spark.read.csv(path='/Users/alessio/Documents/Projects/usa-mortality-analysis/sources/dataset/2007_data.csv',\n",
    "                           header=True,\n",
    "                           inferSchema=True,\n",
    "                           ignoreLeadingWhiteSpace=True,\n",
    "                           ignoreTrailingWhiteSpace=True).cache())\n",
    "year2008 = (spark.read.csv(path='/Users/alessio/Documents/Projects/usa-mortality-analysis/sources/dataset/2008_data.csv',\n",
    "                           header=True,\n",
    "                           inferSchema=True,\n",
    "                           ignoreLeadingWhiteSpace=True,\n",
    "                           ignoreTrailingWhiteSpace=True).cache())\n",
    "year2009 = (spark.read.csv(path='/Users/alessio/Documents/Projects/usa-mortality-analysis/sources/dataset/2009_data.csv',\n",
    "                           header=True,\n",
    "                           inferSchema=True,\n",
    "                           ignoreLeadingWhiteSpace=True,\n",
    "                           ignoreTrailingWhiteSpace=True).cache())\n",
    "year2010 = (spark.read.csv(path='/Users/alessio/Documents/Projects/usa-mortality-analysis/sources/dataset/2010_data.csv',\n",
    "                           header=True,\n",
    "                           inferSchema=True,\n",
    "                           ignoreLeadingWhiteSpace=True,\n",
    "                           ignoreTrailingWhiteSpace=True).cache())\n",
    "year2011 = (spark.read.csv(path='/Users/alessio/Documents/Projects/usa-mortality-analysis/sources/dataset/2011_data.csv',\n",
    "                           header=True,\n",
    "                           inferSchema=True,\n",
    "                           ignoreLeadingWhiteSpace=True,\n",
    "                           ignoreTrailingWhiteSpace=True).cache())\n",
    "year2012 = (spark.read.csv(path='/Users/alessio/Documents/Projects/usa-mortality-analysis/sources/dataset/2012_data.csv',\n",
    "                           header=True,\n",
    "                           inferSchema=True,\n",
    "                           ignoreLeadingWhiteSpace=True,\n",
    "                           ignoreTrailingWhiteSpace=True).cache())\n",
    "year2013 = (spark.read.csv(path='/Users/alessio/Documents/Projects/usa-mortality-analysis/sources/dataset/2013_data.csv',\n",
    "                           header=True,\n",
    "                           inferSchema=True,\n",
    "                           ignoreLeadingWhiteSpace=True,\n",
    "                           ignoreTrailingWhiteSpace=True).cache())\n",
    "year2014 = (spark.read.csv(path='/Users/alessio/Documents/Projects/usa-mortality-analysis/sources/dataset/2014_data.csv',\n",
    "                           header=True,\n",
    "                           inferSchema=True,\n",
    "                           ignoreLeadingWhiteSpace=True,\n",
    "                           ignoreTrailingWhiteSpace=True).cache())\n",
    "year2015 = (spark.read.csv(path='/Users/alessio/Documents/Projects/usa-mortality-analysis/sources/dataset/2015_data.csv',\n",
    "                           header=True,\n",
    "                           inferSchema=True,\n",
    "                           ignoreLeadingWhiteSpace=True,\n",
    "                           ignoreTrailingWhiteSpace=True).cache())"
   ]
  },
  {
   "cell_type": "code",
   "execution_count": 4,
   "metadata": {},
   "outputs": [],
   "source": [
    "# Merging all 11 years data into dataframe\n",
    "def unionAll(*dfs):\n",
    "    return reduce(DataFrame.unionAll, dfs)\n",
    "\n",
    "MergeData = unionAll(year2005,\n",
    "                     year2006,\n",
    "                     year2007,\n",
    "                     year2008,\n",
    "                     year2009,\n",
    "                     year2010,\n",
    "                     year2011,\n",
    "                     year2012,\n",
    "                     year2013,\n",
    "                     year2014,\n",
    "                     year2015)"
   ]
  },
  {
   "cell_type": "code",
   "execution_count": 6,
   "metadata": {
    "pycharm": {
     "name": "#%%\n"
    }
   },
   "outputs": [
    {
     "data": {
      "text/plain": "27720673"
     },
     "execution_count": 6,
     "metadata": {},
     "output_type": "execute_result"
    }
   ],
   "source": [
    "# Count of MergeData\n",
    "MergeData.count()"
   ]
  },
  {
   "cell_type": "code",
   "execution_count": 5,
   "outputs": [
    {
     "name": "stdout",
     "output_type": "stream",
     "text": [
      "root\n",
      " |-- resident_status: integer (nullable = true)\n",
      " |-- education_1989_revision: integer (nullable = true)\n",
      " |-- education_2003_revision: integer (nullable = true)\n",
      " |-- education_reporting_flag: integer (nullable = true)\n",
      " |-- month_of_death: integer (nullable = true)\n",
      " |-- sex: string (nullable = true)\n",
      " |-- detail_age_type: integer (nullable = true)\n",
      " |-- detail_age: integer (nullable = true)\n",
      " |-- age_substitution_flag: integer (nullable = true)\n",
      " |-- age_recode_52: integer (nullable = true)\n",
      " |-- age_recode_27: integer (nullable = true)\n",
      " |-- age_recode_12: integer (nullable = true)\n",
      " |-- infant_age_recode_22: integer (nullable = true)\n",
      " |-- place_of_death_and_decedents_status: integer (nullable = true)\n",
      " |-- marital_status: string (nullable = true)\n",
      " |-- day_of_week_of_death: integer (nullable = true)\n",
      " |-- current_data_year: integer (nullable = true)\n",
      " |-- injury_at_work: string (nullable = true)\n",
      " |-- manner_of_death: integer (nullable = true)\n",
      " |-- method_of_disposition: string (nullable = true)\n",
      " |-- autopsy: string (nullable = true)\n",
      " |-- activity_code: integer (nullable = true)\n",
      " |-- place_of_injury_for_causes_w00_y34_except_y06_and_y07_: integer (nullable = true)\n",
      " |-- icd_code_10th_revision: string (nullable = true)\n",
      " |-- 358_cause_recode: integer (nullable = true)\n",
      " |-- 113_cause_recode: integer (nullable = true)\n",
      " |-- 130_infant_cause_recode: integer (nullable = true)\n",
      " |-- 39_cause_recode: integer (nullable = true)\n",
      " |-- number_of_entity_axis_conditions: integer (nullable = true)\n",
      " |-- entity_condition_1: string (nullable = true)\n",
      " |-- entity_condition_2: string (nullable = true)\n",
      " |-- entity_condition_3: string (nullable = true)\n",
      " |-- entity_condition_4: string (nullable = true)\n",
      " |-- entity_condition_5: string (nullable = true)\n",
      " |-- entity_condition_6: string (nullable = true)\n",
      " |-- entity_condition_7: string (nullable = true)\n",
      " |-- entity_condition_8: string (nullable = true)\n",
      " |-- entity_condition_9: string (nullable = true)\n",
      " |-- entity_condition_10: string (nullable = true)\n",
      " |-- entity_condition_11: string (nullable = true)\n",
      " |-- entity_condition_12: string (nullable = true)\n",
      " |-- entity_condition_13: string (nullable = true)\n",
      " |-- entity_condition_14: string (nullable = true)\n",
      " |-- entity_condition_15: string (nullable = true)\n",
      " |-- entity_condition_16: string (nullable = true)\n",
      " |-- entity_condition_17: string (nullable = true)\n",
      " |-- entity_condition_18: string (nullable = true)\n",
      " |-- entity_condition_19: string (nullable = true)\n",
      " |-- entity_condition_20: string (nullable = true)\n",
      " |-- number_of_record_axis_conditions: integer (nullable = true)\n",
      " |-- record_condition_1: string (nullable = true)\n",
      " |-- record_condition_2: string (nullable = true)\n",
      " |-- record_condition_3: string (nullable = true)\n",
      " |-- record_condition_4: string (nullable = true)\n",
      " |-- record_condition_5: string (nullable = true)\n",
      " |-- record_condition_6: string (nullable = true)\n",
      " |-- record_condition_7: string (nullable = true)\n",
      " |-- record_condition_8: string (nullable = true)\n",
      " |-- record_condition_9: string (nullable = true)\n",
      " |-- record_condition_10: string (nullable = true)\n",
      " |-- record_condition_11: string (nullable = true)\n",
      " |-- record_condition_12: string (nullable = true)\n",
      " |-- record_condition_13: string (nullable = true)\n",
      " |-- record_condition_14: string (nullable = true)\n",
      " |-- record_condition_15: string (nullable = true)\n",
      " |-- record_condition_16: string (nullable = true)\n",
      " |-- record_condition_17: string (nullable = true)\n",
      " |-- record_condition_18: string (nullable = true)\n",
      " |-- record_condition_19: string (nullable = true)\n",
      " |-- record_condition_20: string (nullable = true)\n",
      " |-- race: integer (nullable = true)\n",
      " |-- bridged_race_flag: integer (nullable = true)\n",
      " |-- race_imputation_flag: integer (nullable = true)\n",
      " |-- race_recode_3: integer (nullable = true)\n",
      " |-- race_recode_5: integer (nullable = true)\n",
      " |-- hispanic_origin: integer (nullable = true)\n",
      " |-- hispanic_originrace_recode: integer (nullable = true)\n",
      "\n"
     ]
    }
   ],
   "source": [
    "# Show MergeData schema\n",
    "MergeData.printSchema()"
   ],
   "metadata": {
    "collapsed": false,
    "pycharm": {
     "name": "#%%\n"
    }
   }
  },
  {
   "cell_type": "code",
   "execution_count": 6,
   "outputs": [
    {
     "data": {
      "text/plain": "['resident_status',\n 'education_1989_revision',\n 'education_2003_revision',\n 'education_reporting_flag',\n 'month_of_death',\n 'sex',\n 'detail_age_type',\n 'detail_age',\n 'age_substitution_flag',\n 'age_recode_52',\n 'age_recode_27',\n 'age_recode_12',\n 'infant_age_recode_22',\n 'place_of_death_and_decedents_status',\n 'marital_status',\n 'day_of_week_of_death',\n 'current_data_year',\n 'injury_at_work',\n 'manner_of_death',\n 'method_of_disposition',\n 'autopsy',\n 'activity_code',\n 'place_of_injury_for_causes_w00_y34_except_y06_and_y07_',\n 'icd_code_10th_revision',\n '358_cause_recode',\n '113_cause_recode',\n '130_infant_cause_recode',\n '39_cause_recode',\n 'number_of_entity_axis_conditions',\n 'entity_condition_1',\n 'entity_condition_2',\n 'entity_condition_3',\n 'entity_condition_4',\n 'entity_condition_5',\n 'entity_condition_6',\n 'entity_condition_7',\n 'entity_condition_8',\n 'entity_condition_9',\n 'entity_condition_10',\n 'entity_condition_11',\n 'entity_condition_12',\n 'entity_condition_13',\n 'entity_condition_14',\n 'entity_condition_15',\n 'entity_condition_16',\n 'entity_condition_17',\n 'entity_condition_18',\n 'entity_condition_19',\n 'entity_condition_20',\n 'number_of_record_axis_conditions',\n 'record_condition_1',\n 'record_condition_2',\n 'record_condition_3',\n 'record_condition_4',\n 'record_condition_5',\n 'record_condition_6',\n 'record_condition_7',\n 'record_condition_8',\n 'record_condition_9',\n 'record_condition_10',\n 'record_condition_11',\n 'record_condition_12',\n 'record_condition_13',\n 'record_condition_14',\n 'record_condition_15',\n 'record_condition_16',\n 'record_condition_17',\n 'record_condition_18',\n 'record_condition_19',\n 'record_condition_20',\n 'race',\n 'bridged_race_flag',\n 'race_imputation_flag',\n 'race_recode_3',\n 'race_recode_5',\n 'hispanic_origin',\n 'hispanic_originrace_recode']"
     },
     "execution_count": 6,
     "metadata": {},
     "output_type": "execute_result"
    }
   ],
   "source": [
    "#Columns of MergeData\n",
    "MergeData.columns"
   ],
   "metadata": {
    "collapsed": false,
    "pycharm": {
     "name": "#%%\n"
    }
   }
  },
  {
   "cell_type": "code",
   "execution_count": 7,
   "outputs": [],
   "source": [
    "# Dropping Columns\n",
    "MergeData = MergeData.drop('record_condition_1',\n",
    "                           'record_condition_2',\n",
    "                           'record_condition_3',\n",
    "                           'record_condition_4',\n",
    "                           'record_condition_5',\n",
    "                           'record_condition_6',\n",
    "                           'record_condition_7',\n",
    "                           'record_condition_8',\n",
    "                           'record_condition_9',\n",
    "                           'record_condition_10',\n",
    "                           'record_condition_11',\n",
    "                           'record_condition_12',\n",
    "                           'record_condition_13',\n",
    "                           'record_condition_14',\n",
    "                           'record_condition_15',\n",
    "                           'record_condition_16',\n",
    "                           'record_condition_17',\n",
    "                           'record_condition_18',\n",
    "                           'record_condition_19',\n",
    "                           'record_condition_20')\n",
    "\n",
    "MergeData = MergeData.drop('130_infant_cause_recode',\n",
    "                           '39_cause_recode',\n",
    "                           'number_of_entity_axis_conditions',\n",
    "                           'entity_condition_1',\n",
    "                           'entity_condition_2',\n",
    "                           'entity_condition_3',\n",
    "                           'entity_condition_4',\n",
    "                           'entity_condition_5',\n",
    "                           'entity_condition_6',\n",
    "                           'entity_condition_7',\n",
    "                           'entity_condition_8',\n",
    "                           'entity_condition_9',\n",
    "                           'entity_condition_10',\n",
    "                           'entity_condition_11',\n",
    "                           'entity_condition_12',\n",
    "                           'entity_condition_13',\n",
    "                           'entity_condition_14',\n",
    "                           'entity_condition_15',\n",
    "                           'entity_condition_16',\n",
    "                           'entity_condition_17',\n",
    "                           'entity_condition_18',\n",
    "                           'entity_condition_19')\n",
    "\n",
    "MergeData = MergeData.drop('age_recode_27',\n",
    "                           'detail_age',\n",
    "                           'entity_condition_20',\n",
    "                           'education_1989_revision')\n",
    "\n",
    "MergeData = MergeData.filter((MergeData.method_of_disposition == 'B') | (MergeData.method_of_disposition == 'C' ))\n",
    "\n",
    "MergeData = MergeData.drop('detail_age_type',\n",
    "                           'age_substitution_flag',\n",
    "                           'age_substitution_flag',\n",
    "                           'infant_age_recode_22',\n",
    "                           '358_cause_recode',\n",
    "                           'number_of_record_axis_conditions',\n",
    "                           'hispanic_origin',\n",
    "                           'race_recode_5')"
   ],
   "metadata": {
    "collapsed": false,
    "pycharm": {
     "name": "#%%\n"
    }
   }
  },
  {
   "cell_type": "code",
   "execution_count": 8,
   "outputs": [
    {
     "data": {
      "text/plain": "['resident_status',\n 'education_2003_revision',\n 'education_reporting_flag',\n 'month_of_death',\n 'sex',\n 'age_recode_52',\n 'age_recode_12',\n 'place_of_death_and_decedents_status',\n 'marital_status',\n 'day_of_week_of_death',\n 'current_data_year',\n 'injury_at_work',\n 'manner_of_death',\n 'method_of_disposition',\n 'autopsy',\n 'activity_code',\n 'place_of_injury_for_causes_w00_y34_except_y06_and_y07_',\n 'icd_code_10th_revision',\n '113_cause_recode',\n 'race',\n 'bridged_race_flag',\n 'race_imputation_flag',\n 'race_recode_3',\n 'hispanic_originrace_recode']"
     },
     "execution_count": 8,
     "metadata": {},
     "output_type": "execute_result"
    }
   ],
   "source": [
    "#Columns of MergeData\n",
    "MergeData.columns"
   ],
   "metadata": {
    "collapsed": false,
    "pycharm": {
     "name": "#%%\n"
    }
   }
  },
  {
   "cell_type": "code",
   "execution_count": 9,
   "outputs": [],
   "source": [
    "categoricalColumns = ['resident_status',\n",
    "                      'month_of_death',\n",
    "                      'sex',\n",
    "                      'age_recode_52',\n",
    "                      'place_of_death_and_decedents_status',\n",
    "                      'marital_status',\n",
    "                      'injury_at_work',\n",
    "                      'manner_of_death',\n",
    "                      'autopsy',\n",
    "                      'activity_code',\n",
    "                      'place_of_injury_for_causes_w00_y34_except_y06_and_y07_',\n",
    "                      'race',\n",
    "                      'hispanic_originrace_recode']"
   ],
   "metadata": {
    "collapsed": false,
    "pycharm": {
     "name": "#%%\n"
    }
   }
  },
  {
   "cell_type": "code",
   "execution_count": 10,
   "outputs": [],
   "source": [
    "# Null Imputations\n",
    "MergeData = MergeData.fillna({'place_of_injury_for_causes_w00_y34_except_y06_and_y07_': 12})\n",
    "MergeData = MergeData.fillna({'activity_code': 11})\n",
    "MergeData = MergeData.fillna({'manner_of_death': 999})\n",
    "MergeData = MergeData.fillna({'place_of_death_and_decedents_status': 999})\n",
    "MergeData = MergeData.fillna({'education_2003_revision': 9})"
   ],
   "metadata": {
    "collapsed": false,
    "pycharm": {
     "name": "#%%\n"
    }
   }
  },
  {
   "cell_type": "code",
   "execution_count": 11,
   "outputs": [],
   "source": [
    "# Create SQL Table from MergeData\n",
    "MergeData.registerTempTable(\"mergedTable\")"
   ],
   "metadata": {
    "collapsed": false,
    "pycharm": {
     "name": "#%%\n"
    }
   }
  },
  {
   "cell_type": "code",
   "execution_count": 17,
   "outputs": [],
   "source": [
    "# Merging all years data into new dataframe for other queries\n",
    "def unionAll(*dfs):\n",
    "    return reduce(DataFrame.unionAll, dfs)\n",
    "\n",
    "JoinedData=unionAll(year2005,\n",
    "                    year2006,\n",
    "                    year2007,\n",
    "                    year2008,\n",
    "                    year2009,\n",
    "                    year2010,\n",
    "                    year2011,\n",
    "                    year2012,\n",
    "                    year2013,\n",
    "                    year2014,\n",
    "                    year2015)"
   ],
   "metadata": {
    "collapsed": false,
    "pycharm": {
     "name": "#%%\n"
    }
   }
  },
  {
   "cell_type": "code",
   "execution_count": 13,
   "outputs": [],
   "source": [
    "# Replacing null values in manner_of_death\n",
    "JoinData = JoinedData.fillna({'manner_of_death': 12})\n",
    "JoinData = JoinedData.filter(JoinedData.manner_of_death == '2')"
   ],
   "metadata": {
    "collapsed": false,
    "pycharm": {
     "name": "#%%\n"
    }
   }
  },
  {
   "cell_type": "code",
   "execution_count": 14,
   "outputs": [],
   "source": [
    "# Creating joint table on new joined data which is modified\n",
    "JoinData.registerTempTable(\"jointTable\")"
   ],
   "metadata": {
    "collapsed": false,
    "pycharm": {
     "name": "#%%\n"
    }
   }
  },
  {
   "cell_type": "code",
   "execution_count": 15,
   "outputs": [
    {
     "name": "stdout",
     "output_type": "stream",
     "text": [
      "+---------------+---+----------+\n",
      "|resident_status|sex|sex_counts|\n",
      "+---------------+---+----------+\n",
      "|              1|  F|   7590600|\n",
      "|              1|  M|   7460761|\n",
      "|              2|  F|   1236340|\n",
      "|              2|  M|   1414999|\n",
      "|              3|  F|    210242|\n",
      "|              3|  M|    266829|\n",
      "|              4|  F|     10052|\n",
      "|              4|  M|     20991|\n",
      "+---------------+---+----------+\n",
      "\n"
     ]
    }
   ],
   "source": [
    "# Query 1 - Male vs female deaths by resident status\n",
    "results_male_female_resident_status = spark.sql(\n",
    "  \"\"\"SELECT resident_status,\n",
    "            sex,\n",
    "            count(sex) AS sex_counts\n",
    "     FROM mergedTable\n",
    "     GROUP BY resident_status, sex\n",
    "     ORDER BY resident_status, sex\"\"\")\n",
    "\n",
    "results_male_female_resident_status.show()"
   ],
   "metadata": {
    "collapsed": false,
    "pycharm": {
     "name": "#%%\n"
    }
   }
  },
  {
   "cell_type": "code",
   "execution_count": 10,
   "outputs": [],
   "source": [
    "# Saving data in the db\n",
    "session.execute(\"CREATE TABLE IF NOT EXISTS results_male_female_resident_status (ind int primary key, resident_status int, sex varchar, sex_counts int)\")\n",
    "stmt = session.prepare(\"INSERT INTO results_male_female_resident_status (ind, resident_status, sex, sex_counts) VALUES (?, ?, ?, ?)\")\n",
    "\n",
    "for ind, item in results_male_female_resident_status.toPandas().iterrows():\n",
    "    results = session.execute(stmt, [ind, item['resident_status'], item['sex'], item['sex_counts']])"
   ],
   "metadata": {
    "collapsed": false,
    "pycharm": {
     "name": "#%%\n"
    }
   }
  },
  {
   "cell_type": "code",
   "execution_count": 16,
   "outputs": [
    {
     "name": "stdout",
     "output_type": "stream",
     "text": [
      "+--------------+---+----------+\n",
      "|month_of_death|sex|sex_counts|\n",
      "+--------------+---+----------+\n",
      "|             1|  F|    849629|\n",
      "|             1|  M|    838492|\n",
      "|             2|  F|    758754|\n",
      "|             2|  M|    750646|\n",
      "|             3|  F|    813433|\n",
      "|             3|  M|    804654|\n",
      "|             4|  F|    747380|\n",
      "|             4|  M|    754604|\n",
      "|             5|  F|    738769|\n",
      "|             5|  M|    753111|\n",
      "|             6|  F|    696060|\n",
      "|             6|  M|    717974|\n",
      "|             7|  F|    714427|\n",
      "|             7|  M|    740472|\n",
      "|             8|  F|    711261|\n",
      "|             8|  M|    735864|\n",
      "|             9|  F|    700249|\n",
      "|             9|  M|    719378|\n",
      "|            10|  F|    749339|\n",
      "|            10|  M|    763009|\n",
      "+--------------+---+----------+\n",
      "only showing top 20 rows\n",
      "\n"
     ]
    }
   ],
   "source": [
    "# Query 2 - Male vs female deaths by month of the year\n",
    "results_male_deaths_month = spark.sql(\n",
    "  \"\"\"SELECT month_of_death,\n",
    "            sex,\n",
    "            count(sex) AS sex_counts\n",
    "     FROM mergedTable\n",
    "     GROUP BY month_of_death, sex\n",
    "     ORDER BY month_of_death, sex\"\"\")\n",
    "\n",
    "results_male_deaths_month.show()"
   ],
   "metadata": {
    "collapsed": false,
    "pycharm": {
     "name": "#%%\n"
    }
   }
  },
  {
   "cell_type": "code",
   "execution_count": 12,
   "outputs": [],
   "source": [
    "# Saving data in the db\n",
    "session.execute(\"CREATE TABLE IF NOT EXISTS results_male_deaths_month (ind int primary key, month_of_death int, sex varchar, sex_counts int)\")\n",
    "stmt = session.prepare(\"INSERT INTO results_male_deaths_month (ind, month_of_death, sex, sex_counts) VALUES (?, ?, ?, ?)\")\n",
    "\n",
    "for ind, item in results_male_deaths_month.toPandas().iterrows():\n",
    "    results = session.execute(stmt, [ind, item['month_of_death'], item['sex'], item['sex_counts']])"
   ],
   "metadata": {
    "collapsed": false,
    "pycharm": {
     "name": "#%%\n"
    }
   }
  },
  {
   "cell_type": "code",
   "execution_count": 17,
   "outputs": [],
   "source": [
    "# Read Disease description CSV (ICD10)\n",
    "icd10 = (spark.read.csv(path='/Users/alessio/Documents/Projects/usa-mortality-analysis/sources/codes/ICD10.csv',\n",
    "                        header=True,\n",
    "                        inferSchema=True,\n",
    "                        ignoreLeadingWhiteSpace=True,\n",
    "                        ignoreTrailingWhiteSpace=True).cache())"
   ],
   "metadata": {
    "collapsed": false,
    "pycharm": {
     "name": "#%%\n"
    }
   }
  },
  {
   "cell_type": "code",
   "execution_count": 18,
   "outputs": [],
   "source": [
    "# Create SQL Table of disease description\n",
    "icd10.registerTempTable(\"icd10\")"
   ],
   "metadata": {
    "collapsed": false,
    "pycharm": {
     "name": "#%%\n"
    }
   }
  },
  {
   "cell_type": "code",
   "execution_count": 19,
   "outputs": [
    {
     "name": "stdout",
     "output_type": "stream",
     "text": [
      "+---+----+--------------------+----------+\n",
      "|sex|code|         description|sex_counts|\n",
      "+---+----+--------------------+----------+\n",
      "|  M|I219|Acute myocardial ...|    487319|\n",
      "|  F|G309| Alzheimer's disease|    415393|\n",
      "|  F|J449|Other chronic obs...|    397198|\n",
      "|  F|I219|Acute myocardial ...|    392758|\n",
      "|  M|J449|Other chronic obs...|    350659|\n",
      "|  M| C61|Malignant neoplas...|    204566|\n",
      "|  M|G309| Alzheimer's disease|    184358|\n",
      "|  F|J189|Pneumonia, unspec...|    173403|\n",
      "|  M|J189|Pneumonia, unspec...|    151422|\n",
      "|  M|C189|Malignant neoplas...|    150469|\n",
      "|  F|C189|Malignant neoplas...|    144516|\n",
      "|  M|C259|Malignant neoplas...|    137235|\n",
      "|  F|C259|Malignant neoplas...|    132971|\n",
      "|  F|A419|Sepsis, unspecifi...|    121247|\n",
      "|  M|A419|Sepsis, unspecifi...|    104677|\n",
      "|  M|I119|Hypertensive hear...|     98173|\n",
      "|  M| G20| Parkinson's disease|     97789|\n",
      "|  M|C159|Malignant neoplas...|     81824|\n",
      "|  F| I10|Essential (primar...|     80630|\n",
      "|  F|I119|Hypertensive hear...|     79545|\n",
      "+---+----+--------------------+----------+\n",
      "\n"
     ]
    }
   ],
   "source": [
    "# Query 3 - Top 20 diseases causing deaths for either sex\n",
    "results_diseases_causing_deaths_sex = spark.sql(\n",
    "  \"\"\"SELECT m.sex AS sex,\n",
    "            m.icd_code_10th_revision AS code,\n",
    "            i.description3 AS description,\n",
    "            count(m.sex) AS sex_counts\n",
    "     FROM mergedTable m, icd10 i\n",
    "     WHERE i.code3 = m.icd_code_10th_revision\n",
    "     GROUP BY i.description3 ,m.icd_code_10th_revision, m.sex\n",
    "     ORDER BY count(m.sex) DESC, m.sex\n",
    "     LIMIT 20\"\"\")\n",
    "\n",
    "results_diseases_causing_deaths_sex.show()"
   ],
   "metadata": {
    "collapsed": false,
    "pycharm": {
     "name": "#%%\n"
    }
   }
  },
  {
   "cell_type": "code",
   "execution_count": 16,
   "outputs": [],
   "source": [
    "# Saving data in the db\n",
    "session.execute(\"CREATE TABLE IF NOT EXISTS results_diseases_causing_deaths_sex (ind int primary key, code varchar, description varchar, sex varchar, sex_counts int)\")\n",
    "stmt = session.prepare(\"INSERT INTO results_diseases_causing_deaths_sex (ind, code, description, sex, sex_counts) VALUES (?, ?, ?, ?, ?)\")\n",
    "\n",
    "for ind, item in results_diseases_causing_deaths_sex.toPandas().iterrows():\n",
    "    results = session.execute(stmt, [ind, item['code'], item['description'], item['sex'], item['sex_counts']])"
   ],
   "metadata": {
    "collapsed": false,
    "pycharm": {
     "name": "#%%\n"
    }
   }
  },
  {
   "cell_type": "code",
   "execution_count": 20,
   "outputs": [
    {
     "name": "stdout",
     "output_type": "stream",
     "text": [
      "+----+-----------+-------+\n",
      "|year|disposition| counts|\n",
      "+----+-----------+-------+\n",
      "|2005|  Cremation| 350018|\n",
      "|2005|     Burial| 553202|\n",
      "|2006|  Cremation| 423282|\n",
      "|2006|     Burial| 667169|\n",
      "|2007|  Cremation| 472220|\n",
      "|2007|     Burial| 725666|\n",
      "|2008|  Cremation| 579827|\n",
      "|2008|     Burial| 866384|\n",
      "|2009|  Cremation| 599202|\n",
      "|2009|     Burial| 802305|\n",
      "|2010|  Cremation| 706224|\n",
      "|2010|     Burial| 906430|\n",
      "|2011|  Cremation| 780480|\n",
      "|2011|     Burial| 950372|\n",
      "|2012|  Cremation| 898222|\n",
      "|2012|     Burial|1093628|\n",
      "|2013|  Cremation| 973768|\n",
      "|2013|     Burial|1113362|\n",
      "|2014|  Cremation|1094292|\n",
      "|2014|     Burial|1162836|\n",
      "+----+-----------+-------+\n",
      "only showing top 20 rows\n",
      "\n"
     ]
    }
   ],
   "source": [
    "# Query 4 - Method of Disposition\n",
    "results_disposition = spark.sql(\n",
    "  \"\"\"SELECT current_data_year AS year,\n",
    "            CASE method_of_disposition\n",
    "            WHEN 'C' THEN 'Cremation'\n",
    "            WHEN 'B' THEN 'Burial'\n",
    "            WHEN 'D'THEN 'Donation'\n",
    "            WHEN 'E' THEN 'Entombment'\n",
    "            WHEN 'O' THEN 'Other'\n",
    "            WHEN 'R' THEN 'RemovedFromUSA'\n",
    "            WHEN 'U' THEN 'Unknown'\n",
    "            END AS disposition,\n",
    "            COUNT(*) AS counts\n",
    "     FROM mergedTable\n",
    "     GROUP BY 1, 2\n",
    "     ORDER BY 1, 3\"\"\")\n",
    "\n",
    "results_disposition.show()"
   ],
   "metadata": {
    "collapsed": false,
    "pycharm": {
     "name": "#%%\n"
    }
   }
  },
  {
   "cell_type": "code",
   "execution_count": 19,
   "outputs": [],
   "source": [
    "# Saving data in the db\n",
    "session.execute(\"CREATE TABLE IF NOT EXISTS results_disposition (ind int primary key, counts int, disposition varchar, year int)\")\n",
    "stmt = session.prepare(\"INSERT INTO results_disposition (ind, counts, disposition, year) VALUES (?, ?, ?, ?)\")\n",
    "\n",
    "for ind, item in results_disposition.toPandas().iterrows():\n",
    "    results = session.execute(stmt, [ind, item['counts'], item['disposition'], item['year']])"
   ],
   "metadata": {
    "collapsed": false,
    "pycharm": {
     "name": "#%%\n"
    }
   }
  },
  {
   "cell_type": "code",
   "execution_count": 21,
   "outputs": [
    {
     "name": "stdout",
     "output_type": "stream",
     "text": [
      "+-----+--------------------+-------+\n",
      "|month|        manner_death| counts|\n",
      "+-----+--------------------+-------+\n",
      "|    1|            Accident|  73168|\n",
      "|    1|Could not be dete...|   6569|\n",
      "|    1|            Homicide|  10496|\n",
      "|    1|             Natural|1265741|\n",
      "|    1|               OTHER| 305799|\n",
      "|    1|Pending investiga...|   3025|\n",
      "|    1|             Suicide|  23323|\n",
      "|    2|            Accident|  67509|\n",
      "|    2|Could not be dete...|   6161|\n",
      "|    2|            Homicide|   8666|\n",
      "|    2|             Natural|1128534|\n",
      "|    2|               OTHER| 275216|\n",
      "|    2|Pending investiga...|   2404|\n",
      "|    2|             Suicide|  20910|\n",
      "|    3|            Accident|  72695|\n",
      "|    3|Could not be dete...|   6817|\n",
      "|    3|            Homicide|  10283|\n",
      "|    3|             Natural|1211157|\n",
      "|    3|               OTHER| 290285|\n",
      "|    3|Pending investiga...|   2645|\n",
      "+-----+--------------------+-------+\n",
      "only showing top 20 rows\n",
      "\n"
     ]
    }
   ],
   "source": [
    "# Query 5 - Manner of death per month\n",
    "results_deaths_month = spark.sql(\n",
    "  \"\"\"SELECT month_of_death AS month,\n",
    "            CASE manner_of_death\n",
    "            WHEN '0' THEN 'Not Specified'\n",
    "            WHEN '1' THEN 'Accident'\n",
    "            WHEN '2' THEN 'Suicide'\n",
    "            WHEN '3' THEN 'Homicide'\n",
    "            WHEN '4' THEN 'Pending investigation'\n",
    "            WHEN '5' THEN 'Could not be determine'\n",
    "            WHEN '6' THEN 'Self-Inflicted'\n",
    "            WHEN '7' THEN 'Natural'\n",
    "            ELSE 'OTHER'\n",
    "            END AS manner_death,\n",
    "            COUNT(*) AS counts\n",
    "     FROM mergedTable\n",
    "     GROUP BY 1, 2\n",
    "     ORDER BY 1,2\"\"\")\n",
    "\n",
    "results_deaths_month.show()"
   ],
   "metadata": {
    "collapsed": false,
    "pycharm": {
     "name": "#%%\n"
    }
   }
  },
  {
   "cell_type": "code",
   "execution_count": 23,
   "outputs": [],
   "source": [
    "# Saving data in the db\n",
    "session.execute(\"CREATE TABLE IF NOT EXISTS results_deaths_month (ind int primary key, counts int, manner_death varchar, month int)\")\n",
    "stmt = session.prepare(\"INSERT INTO results_deaths_month (ind, counts, manner_death, month) VALUES (?, ?, ?, ?)\")\n",
    "\n",
    "for ind, item in results_deaths_month.toPandas().iterrows():\n",
    "    results = session.execute(stmt, [ind, item['counts'], item['manner_death'], item['month']])"
   ],
   "metadata": {
    "collapsed": false,
    "pycharm": {
     "name": "#%%\n"
    }
   }
  },
  {
   "cell_type": "code",
   "execution_count": 22,
   "outputs": [
    {
     "name": "stdout",
     "output_type": "stream",
     "text": [
      "+-------------+-----------------+\n",
      "|deaths_counts|              age|\n",
      "+-------------+-----------------+\n",
      "|       400844|85 years and over|\n",
      "|       174941|    75 - 84 years|\n",
      "|        32518|    65 - 74 years|\n",
      "|         5763|    55 - 64 years|\n",
      "|          700|    45 - 54 years|\n",
      "|           64|    35 - 44 years|\n",
      "|            6|   Age not stated|\n",
      "|            3|    25 - 34 years|\n",
      "|            1|    15 - 24 years|\n",
      "+-------------+-----------------+\n",
      "\n"
     ]
    }
   ],
   "source": [
    "# Query 6 - Analysis about Alzheimer's death order by group age\n",
    "results_alzheimer = spark.sql(\n",
    "  \"\"\"SELECT count(*) as deaths_counts,\n",
    "            CASE age_recode_12\n",
    "            WHEN '10' THEN '75 - 84 years'\n",
    "            WHEN '11' THEN '85 years and over'\n",
    "            WHEN '12' THEN 'Age not stated'\n",
    "            WHEN '01' THEN 'Under 1 year'\n",
    "            WHEN '02' THEN '1 - 4 years'\n",
    "            WHEN '03' THEN '5 - 14 years'\n",
    "            WHEN '04' THEN '15 - 24 years'\n",
    "            WHEN '05' THEN '25 - 34 years'\n",
    "            WHEN '06' THEN '35 - 44 years'\n",
    "            WHEN '07' THEN '45 - 54 years'\n",
    "            WHEN '08' THEN '55 - 64 years'\n",
    "            WHEN '09' THEN '65 - 74 years'\n",
    "            END AS age\n",
    "     FROM mergedTable\n",
    "     WHERE 113_cause_recode = '052'\n",
    "     GROUP BY age\n",
    "     ORDER BY deaths_counts DESC\n",
    "     LIMIT 10\"\"\")\n",
    "\n",
    "results_alzheimer.show()"
   ],
   "metadata": {
    "collapsed": false,
    "pycharm": {
     "name": "#%%\n"
    }
   }
  },
  {
   "cell_type": "code",
   "execution_count": 25,
   "outputs": [],
   "source": [
    "# Saving data in the db\n",
    "session.execute(\"CREATE TABLE IF NOT EXISTS results_alzheimer (ind int primary key, age varchar, deaths_counts int)\")\n",
    "stmt = session.prepare(\"INSERT INTO results_alzheimer (ind, age, deaths_counts) VALUES (?, ?, ?)\")\n",
    "\n",
    "for ind, item in results_alzheimer.toPandas().iterrows():\n",
    "    results = session.execute(stmt, [ind, item['age'], item['deaths_counts']])"
   ],
   "metadata": {
    "collapsed": false,
    "pycharm": {
     "name": "#%%\n"
    }
   }
  },
  {
   "cell_type": "code",
   "execution_count": 20,
   "outputs": [
    {
     "name": "stdout",
     "output_type": "stream",
     "text": [
      "+-------------+--------------------+\n",
      "|deaths_counts|           education|\n",
      "+-------------+--------------------+\n",
      "|       113618|high school gradu...|\n",
      "|        49674|some college cred...|\n",
      "|        35932|9 - 12th grade, n...|\n",
      "|        33985|   Bachelor’s degree|\n",
      "|        19862|    Associate degree|\n",
      "|        11797|   8th grade or less|\n",
      "|        11095|     Master’s degree|\n",
      "|         6076|             Unknown|\n",
      "|         5657|Doctorate or prof...|\n",
      "+-------------+--------------------+\n",
      "\n"
     ]
    }
   ],
   "source": [
    "# Query 7 - Count number of graduate people who deads with suicide manner\n",
    "results_degree_suicides = spark.sql(\n",
    "  \"\"\"SELECT count(*) as deaths_counts,\n",
    "            CASE education_2003_revision\n",
    "            WHEN '1' THEN '8th grade or less'\n",
    "            WHEN '2' THEN '9 - 12th grade, no diploma'\n",
    "            WHEN '3' THEN 'high school graduate or GED completed'\n",
    "            WHEN '4' THEN 'some college credit, but no degree'\n",
    "            WHEN '5' THEN 'Associate degree'\n",
    "            WHEN '6' THEN 'Bachelor’s degree'\n",
    "            WHEN '7' THEN 'Master’s degree'\n",
    "            WHEN '8' THEN 'Doctorate or professional degree'\n",
    "            WHEN '9' THEN 'Unknown'\n",
    "            END AS education\n",
    "     FROM mergedTable\n",
    "     WHERE manner_of_death = '2'\n",
    "     GROUP BY education\n",
    "     ORDER BY deaths_counts DESC\n",
    "     LIMIT 10\"\"\")\n",
    "\n",
    "results_degree_suicides.show()"
   ],
   "metadata": {
    "collapsed": false,
    "pycharm": {
     "name": "#%%\n"
    }
   }
  },
  {
   "cell_type": "code",
   "execution_count": 27,
   "outputs": [],
   "source": [
    "# Saving data in the db\n",
    "session.execute(\"CREATE TABLE IF NOT EXISTS results_degree_suicides (ind int primary key, deaths_counts int, education varchar)\")\n",
    "stmt = session.prepare(\"INSERT INTO results_degree_suicides (ind, deaths_counts, education) VALUES (?, ?, ?)\")\n",
    "\n",
    "for ind, item in results_degree_suicides.toPandas().iterrows():\n",
    "    results = session.execute(stmt, [ind, item['deaths_counts'], item['education']])"
   ],
   "metadata": {
    "collapsed": false,
    "pycharm": {
     "name": "#%%\n"
    }
   }
  },
  {
   "cell_type": "code",
   "execution_count": 21,
   "outputs": [
    {
     "name": "stdout",
     "output_type": "stream",
     "text": [
      "+----+--------+------+\n",
      "|year|suicides|counts|\n",
      "+----+--------+------+\n",
      "|2005| Suicide| 32934|\n",
      "|2006| Suicide| 33562|\n",
      "|2007| Suicide| 34827|\n",
      "|2008| Suicide| 36251|\n",
      "|2009| Suicide| 37205|\n",
      "|2010| Suicide| 38710|\n",
      "|2011| Suicide| 39878|\n",
      "|2012| Suicide| 40929|\n",
      "|2013| Suicide| 41509|\n",
      "|2014| Suicide| 43139|\n",
      "|2015| Suicide| 44417|\n",
      "+----+--------+------+\n",
      "\n"
     ]
    }
   ],
   "source": [
    "# Query 8 - Total suicides committed 2005-2015\n",
    "results_suicides = spark.sql(\n",
    "  \"\"\"SELECT current_data_year AS year,\n",
    "            CASE manner_of_death\n",
    "            WHEN '2' THEN 'Suicide'\n",
    "            END AS suicides,\n",
    "            COUNT(*) AS counts\n",
    "     FROM jointTable\n",
    "     GROUP BY 1, 2\n",
    "     ORDER BY 1, 3\"\"\")\n",
    "\n",
    "results_suicides.show()"
   ],
   "metadata": {
    "collapsed": false,
    "pycharm": {
     "name": "#%%\n"
    }
   }
  },
  {
   "cell_type": "code",
   "execution_count": 38,
   "outputs": [],
   "source": [
    "# Saving data in the db\n",
    "session.execute(\"CREATE TABLE IF NOT EXISTS results_suicides (ind int primary key, counts int, suicides varchar, year int)\")\n",
    "stmt = session.prepare(\"INSERT INTO results_suicides (ind, counts, suicides, year) VALUES (?, ?, ?, ?)\")\n",
    "\n",
    "for ind, item in results_suicides.toPandas().iterrows():\n",
    "    results = session.execute(stmt, [ind, item['counts'], item['suicides'], item['year']])"
   ],
   "metadata": {
    "collapsed": false,
    "pycharm": {
     "name": "#%%\n"
    }
   }
  },
  {
   "cell_type": "code",
   "execution_count": 23,
   "outputs": [
    {
     "name": "stdout",
     "output_type": "stream",
     "text": [
      "+--------------------+------+\n",
      "|         description|counts|\n",
      "+--------------------+------+\n",
      "|Ill-defined and u...| 29259|\n",
      "|Acute myocardial ...|   212|\n",
      "|Hypertensive hear...|   153|\n",
      "|Complications and...|   148|\n",
      "|      Cardiac arrest|   102|\n",
      "|Other chronic obs...|    94|\n",
      "|      Cardiomyopathy|    87|\n",
      "|Pneumonia, unspec...|    62|\n",
      "|Cardiac arrhythmi...|    54|\n",
      "|Sepsis, unspecifi...|    47|\n",
      "|Shock, not elsewh...|    46|\n",
      "|Essential (primar...|    42|\n",
      "| Alzheimer's disease|    34|\n",
      "|Obesity, unspecified|    34|\n",
      "|Chronic ischemic ...|    33|\n",
      "|Other disorders o...|    33|\n",
      "|       Other obesity|    32|\n",
      "|           Emphysema|    29|\n",
      "|Nontraumatic intr...|    24|\n",
      "|  Respiratory arrest|    21|\n",
      "+--------------------+------+\n",
      "only showing top 20 rows\n",
      "\n"
     ]
    }
   ],
   "source": [
    "# Query 9 - Result about deaths pending\n",
    "results_deaths_pending = spark.sql(\n",
    "    \"\"\"SELECT icd.description3 AS description,\n",
    "              count(*) as counts\n",
    "       FROM mergedTable mt JOIN icd10 icd ON icd.code3 = mt.icd_code_10th_revision\n",
    "       WHERE mt.manner_of_death == '4'\n",
    "       GROUP BY description\n",
    "       ORDER BY counts DESC, description\"\"\"\n",
    ")\n",
    "results_deaths_pending.show()"
   ],
   "metadata": {
    "collapsed": false,
    "pycharm": {
     "name": "#%%\n"
    }
   }
  },
  {
   "cell_type": "code",
   "execution_count": 40,
   "outputs": [],
   "source": [
    "# Saving data in the db\n",
    "session.execute(\"CREATE TABLE IF NOT EXISTS results_deaths_pending (ind int primary key, counts int, description varchar)\")\n",
    "stmt = session.prepare(\"INSERT INTO results_deaths_pending (ind, counts, description) VALUES (?, ?, ?)\")\n",
    "\n",
    "for ind, item in results_deaths_pending.toPandas().iterrows():\n",
    "    results = session.execute(stmt, [ind, item['counts'], item['description']])"
   ],
   "metadata": {
    "collapsed": false,
    "pycharm": {
     "name": "#%%\n"
    }
   }
  },
  {
   "cell_type": "code",
   "execution_count": 15,
   "outputs": [
    {
     "name": "stdout",
     "output_type": "stream",
     "text": [
      "+-------+---------+\n",
      "| counts|      day|\n",
      "+-------+---------+\n",
      "|   1033|  Unknown|\n",
      "|2581659|   Sunday|\n",
      "|2585712|  Tuesday|\n",
      "|2589390|Wednesday|\n",
      "|2595314| Thursday|\n",
      "|2601045|   Monday|\n",
      "|2626127|   Friday|\n",
      "|2630534| Saturday|\n",
      "+-------+---------+\n",
      "\n"
     ]
    }
   ],
   "source": [
    "# Query 10 - Deaths for days of the week\n",
    "results_day_week = spark.sql(\n",
    "    \"\"\"SELECT count(*) as counts,\n",
    "              CASE day_of_week_of_death\n",
    "              WHEN '1' THEN 'Sunday'\n",
    "              WHEN '2' THEN 'Monday'\n",
    "              WHEN '3' THEN 'Tuesday'\n",
    "              WHEN '4' THEN 'Wednesday'\n",
    "              WHEN '5' THEN 'Thursday'\n",
    "              WHEN '6' THEN 'Friday'\n",
    "              WHEN '7' THEN 'Saturday'\n",
    "              WHEN '9' THEN 'Unknown'\n",
    "              END AS day\n",
    "      FROM mergedTable\n",
    "      GROUP BY day\n",
    "      ORDER BY counts\"\"\"\n",
    ")\n",
    "\n",
    "results_day_week.show()"
   ],
   "metadata": {
    "collapsed": false,
    "pycharm": {
     "name": "#%%\n"
    }
   }
  },
  {
   "cell_type": "code",
   "execution_count": 42,
   "outputs": [],
   "source": [
    "# Saving data in the db\n",
    "session.execute(\"CREATE TABLE IF NOT EXISTS results_day_week (ind int primary key, counts int, day varchar)\")\n",
    "stmt = session.prepare(\"INSERT INTO results_day_week (ind, counts, day) VALUES (?, ?, ?)\")\n",
    "\n",
    "for ind, item in results_day_week.toPandas().iterrows():\n",
    "    results = session.execute(stmt, [ind, item['counts'], item['day']])"
   ],
   "metadata": {
    "collapsed": false,
    "pycharm": {
     "name": "#%%\n"
    }
   }
  },
  {
   "cell_type": "code",
   "execution_count": 16,
   "outputs": [
    {
     "name": "stdout",
     "output_type": "stream",
     "text": [
      "+--------+--------------------+\n",
      "|  counts|          skin_color|\n",
      "+--------+--------------------+\n",
      "|  572732|Races other than b&w|\n",
      "| 2033419|               Black|\n",
      "|15604663|               White|\n",
      "+--------+--------------------+\n",
      "\n"
     ]
    }
   ],
   "source": [
    "# Query 11 - Total deaths by skin's color\n",
    "results_deaths_skin_color = spark.sql(\n",
    "    \"\"\"SELECT count(*) as counts,\n",
    "            CASE race_recode_3\n",
    "            WHEN '1' THEN 'White'\n",
    "            WHEN '2' THEN 'Races other than b&w'\n",
    "            WHEN '3' THEN 'Black'\n",
    "            END AS skin_color\n",
    "       FROM mergedTable\n",
    "       GROUP BY skin_color\n",
    "       ORDER BY counts\"\"\"\n",
    ")\n",
    "\n",
    "results_deaths_skin_color.show()"
   ],
   "metadata": {
    "collapsed": false,
    "pycharm": {
     "name": "#%%\n"
    }
   }
  },
  {
   "cell_type": "code",
   "execution_count": 45,
   "outputs": [],
   "source": [
    "# Saving data in the db\n",
    "session.execute(\"CREATE TABLE IF NOT EXISTS results_deaths_skin_color (ind int primary key, counts int, skin_color varchar)\")\n",
    "stmt = session.prepare(\"INSERT INTO results_deaths_skin_color (ind, counts, skin_color) VALUES (?, ?, ?)\")\n",
    "\n",
    "for ind, item in results_deaths_skin_color.toPandas().iterrows():\n",
    "    results = session.execute(stmt, [ind, item['counts'], item['skin_color']])"
   ],
   "metadata": {
    "collapsed": false,
    "pycharm": {
     "name": "#%%\n"
    }
   }
  },
  {
   "cell_type": "code",
   "execution_count": 18,
   "outputs": [],
   "source": [
    "# Spark MLlib\n",
    "\n",
    "# Pipeline- String Indexing, encoding and Vector Assembling\n",
    "stages = [] # stages in our Pipeline\n",
    "for categoricalCol in categoricalColumns:\n",
    "    # Category Indexing with StringIndexer\n",
    "    stringIndexer = StringIndexer(inputCol=categoricalCol, outputCol=categoricalCol + \"Index\")\n",
    "    # Use OneHotEncoder to convert categorical variables into binary SparseVectors\n",
    "    # encoder = OneHotEncoderEstimator(inputCol=categoricalCol + \"Index\", outputCol=categoricalCol + \"classVec\")\n",
    "    encoder = OneHotEncoder(inputCols=[stringIndexer.getOutputCol()], outputCols=[categoricalCol + \"classVec\"])\n",
    "    # Add stages.  These are not run here, but will run all at once later on.\n",
    "    stages += [stringIndexer, encoder]"
   ],
   "metadata": {
    "collapsed": false,
    "pycharm": {
     "name": "#%%\n"
    }
   }
  },
  {
   "cell_type": "code",
   "execution_count": 19,
   "outputs": [],
   "source": [
    "# Convert label into label indices using the StringIndexer\n",
    "label_stringIdx = StringIndexer(inputCol='method_of_disposition', outputCol=\"label\")\n",
    "stages += [label_stringIdx]"
   ],
   "metadata": {
    "collapsed": false,
    "pycharm": {
     "name": "#%%\n"
    }
   }
  },
  {
   "cell_type": "code",
   "execution_count": 20,
   "outputs": [],
   "source": [
    "assemblerInputs = [c + \"classVec\" for c in categoricalColumns]\n",
    "assembler = VectorAssembler(inputCols=assemblerInputs, outputCol=\"features\")\n",
    "stages += [assembler]"
   ],
   "metadata": {
    "collapsed": false,
    "pycharm": {
     "name": "#%%\n"
    }
   }
  },
  {
   "cell_type": "code",
   "execution_count": 21,
   "outputs": [],
   "source": [
    "partialPipeline = Pipeline().setStages(stages)\n",
    "pipelineModel = partialPipeline.fit(MergeData)\n",
    "preppedDataDF = pipelineModel.transform(MergeData)"
   ],
   "metadata": {
    "collapsed": false,
    "pycharm": {
     "name": "#%%\n"
    }
   }
  },
  {
   "cell_type": "code",
   "execution_count": 22,
   "outputs": [],
   "source": [
    "# Choose the column that is predicted and the columns(features) that are used for prediciting\n",
    "selectedcols = [\"label\", \"features\"]\n",
    "dataset = preppedDataDF.select(selectedcols)"
   ],
   "metadata": {
    "collapsed": false,
    "pycharm": {
     "name": "#%%\n"
    }
   }
  },
  {
   "cell_type": "code",
   "execution_count": 23,
   "outputs": [],
   "source": [
    "# Splitting the dataset into training set and test set\n",
    "(trainingData, testData) = dataset.randomSplit([0.7, 0.3], seed=100)"
   ],
   "metadata": {
    "collapsed": false,
    "pycharm": {
     "name": "#%%\n"
    }
   }
  },
  {
   "cell_type": "code",
   "execution_count": 25,
   "outputs": [],
   "source": [
    "# Logistic Regression model for predicting method-of-disposition (burial vs cremation)\n",
    "\n",
    "# Create initial LogisticRegression model\n",
    "lr = LogisticRegression(labelCol=\"label\", featuresCol=\"features\", maxIter=10)\n",
    "\n",
    "# Train model with Training Data\n",
    "lrModel = lr.fit(trainingData)"
   ],
   "metadata": {
    "collapsed": false,
    "pycharm": {
     "name": "#%%\n"
    }
   }
  },
  {
   "cell_type": "code",
   "execution_count": 26,
   "outputs": [],
   "source": [
    "predictions = lrModel.transform(testData)"
   ],
   "metadata": {
    "collapsed": false,
    "pycharm": {
     "name": "#%%\n"
    }
   }
  },
  {
   "cell_type": "code",
   "execution_count": 27,
   "outputs": [],
   "source": [
    "# Comparing the predicted value against actual value\n",
    "selected = predictions.select(\"label\", \"prediction\", \"probability\")"
   ],
   "metadata": {
    "collapsed": false,
    "pycharm": {
     "name": "#%%\n"
    }
   }
  },
  {
   "cell_type": "code",
   "execution_count": 28,
   "outputs": [
    {
     "data": {
      "text/plain": "0.6650842059202722"
     },
     "execution_count": 28,
     "metadata": {},
     "output_type": "execute_result"
    }
   ],
   "source": [
    "# Efficiency of Model: Evaluate model\n",
    "evaluator = BinaryClassificationEvaluator(rawPredictionCol=\"rawPrediction\")\n",
    "evaluator.evaluate(predictions)"
   ],
   "metadata": {
    "collapsed": false,
    "pycharm": {
     "name": "#%%\n"
    }
   }
  },
  {
   "cell_type": "code",
   "execution_count": 29,
   "outputs": [
    {
     "data": {
      "text/plain": "0.6298390922961876"
     },
     "execution_count": 29,
     "metadata": {},
     "output_type": "execute_result"
    }
   ],
   "source": [
    "# Accuracy: Evaluate model\n",
    "evaluator = MulticlassClassificationEvaluator(predictionCol=\"prediction\", metricName = 'accuracy')\n",
    "evaluator.evaluate(predictions)\n"
   ],
   "metadata": {
    "collapsed": false,
    "pycharm": {
     "name": "#%%\n"
    }
   }
  }
 ],
 "metadata": {
  "kernelspec": {
   "name": "python3",
   "language": "python",
   "display_name": "Python 3"
  },
  "language_info": {
   "codemirror_mode": {
    "name": "ipython",
    "version": 3
   },
   "file_extension": ".py",
   "mimetype": "text/x-python",
   "name": "python",
   "nbconvert_exporter": "python",
   "pygments_lexer": "ipython3",
   "version": "3.7.6"
  }
 },
 "nbformat": 4,
 "nbformat_minor": 4
}